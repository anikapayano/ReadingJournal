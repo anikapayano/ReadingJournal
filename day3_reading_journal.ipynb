{
 "cells": [
  {
   "cell_type": "markdown",
   "metadata": {},
   "source": [
    "# Day 3 Reading Journal\n",
    "\n",
    "This journal includes several required exercises, but it is meant to encourage active reading more generally.  You should use the journal to take detailed notes, catalog questions, and explore the content from Think Python deeply.\n",
    "\n",
    "Reading: Think Python Chapter 8, 10.1-10.6\n",
    "\n",
    "**Due: Thursday, January 26 at noon**\n",
    "\n"
   ]
  },
  {
   "cell_type": "markdown",
   "metadata": {},
   "source": [
    "## [Chapter 8](http://www.greenteapress.com/thinkpython2/html/thinkpython2009.html)\n",
    "\n",
    "Note: the exercise numbers below match up with the reading for ease of cross referencing."
   ]
  },
  {
   "cell_type": "markdown",
   "metadata": {},
   "source": [
    "- **string** is a sequence\n",
    "- access characters of a string one at a time by using bracket (index)\n",
    "    - ex. \n",
    "    fruit = 'banana' \n",
    "    letter = fruit[1]\n",
    "    letter = a  (first letter is 0)\n",
    "- len(string) returns number of characters in a string\n",
    "    - last letter in string is fruit[length-1] because of 0th letter or fruit[-1] \n",
    "- **Traversal** processing a string one character at a time - start at the beginning, select a character, do something, and then continue to the end. \n",
    "    - ex.\n",
    "    index = 0\n",
    "    while index < len(fruit):\n",
    "        letter = fruit[index]\n",
    "        print(letter)\n",
    "        index = index + 1\n",
    "        \n",
    "        displays each letter on a line by itself\n",
    "        \n",
    "        or\n",
    "        \n",
    "    - for letter in fruit:\n",
    "        print(letter)\n",
    "        \n",
    "- **slice** is a segment of string\n",
    "    use operator [n:m] to return part of string from n-eth to m-eth character.\n",
    "    if n is ommited, slice starts at the beginning. if m is ommited slice ends at the end of string\n",
    "    if n >= or == to m, result is an empty string - ' ' \n",
    "    \n",
    "- **immutable** cant change an existing string - cannot put [] on left side of assignment\n",
    "\n",
    "- **search** traversing a sequence and returning when we find what were looking for\n",
    "    - ex. finds index where character appears\n",
    "    def find(word, letter):\n",
    "        index = 0\n",
    "        while index < lenword):\n",
    "            if word[index] == letter:\n",
    "                return index\n",
    "            index = index +1\n",
    "        return -1\n",
    "        \n",
    "- **counter** variable count is initialized to zero then incremeted each time a letter appears in a string\n",
    "    - ex. times letter a appears\n",
    "    word = 'banana'\n",
    "    count = 0\n",
    "    for letter in word:\n",
    "        if letter == 'a':\n",
    "           count = count + 1\n",
    "    print(count)\n",
    "                \n",
    "- **invocation** method call - invoking a method on a string\n",
    "    - ex. word.upper() changes the word string into all uppercase\n",
    "          word.find(letter as parameter) find the letter we are looking for\n",
    "\n",
    "Jupyter Notebook\n",
    "day3_reading_journal Last Checkpoint: 27 minutes ago (unsaved changes)\n",
    "\n",
    "Python 3\n",
    "\n",
    "    File\n",
    "    Edit\n",
    "    View\n",
    "    Insert\n",
    "    Cell\n",
    "    Kernel\n",
    "    Help\n",
    "\n",
    "Day 3 Reading Journal\n",
    "\n",
    "This journal includes several required exercises, but it is meant to encourage active reading more generally. You should use the journal to take detailed notes, catalog questions, and explore the content from Think Python deeply.\n",
    "\n",
    "Reading: Think Python Chapter 8, 10.1-10.6\n",
    "\n",
    "Due: Thursday, January 26 at noon\n",
    "Chapter 8\n",
    "\n",
    "Note: the exercise numbers below match up with the reading for ease of cross referencing.\n",
    "\n",
    "- **string** is a sequence\n",
    "\n",
    "- access characters of a string one at a time by using bracket (index)\n",
    "\n",
    "    - ex. \n",
    "\n",
    "    fruit = 'banana' \n",
    "\n",
    "    letter = fruit[1]\n",
    "\n",
    "    letter = a  (first letter is 0)\n",
    "\n",
    "- len(string) returns number of characters in a string\n",
    "\n",
    "    - last letter in string is fruit[length-1] because of 0th letter or fruit[-1] \n",
    "\n",
    "- **Traversal** processing a string one character at a time - start at the beginning, select a character, do something, and then continue to the end. \n",
    "\n",
    "    - ex.\n",
    "\n",
    "    index = 0\n",
    "\n",
    "    while index < len(fruit):\n",
    "\n",
    "        letter = fruit[index]\n",
    "\n",
    "        print(letter)\n",
    "\n",
    "        index = index + 1\n",
    "\n",
    "        \n",
    "\n",
    "        displays each letter on a line by itself\n",
    "\n",
    "        \n",
    "\n",
    "        or\n",
    "\n",
    "        \n",
    "\n",
    "    - for letter in fruit:\n",
    "\n",
    "        print(letter)\n",
    "\n",
    "        \n",
    "\n",
    "- **slice** is a segment of string\n",
    "\n",
    "    use operator [n:m] to return part of string from n-eth to m-eth character.\n",
    "\n",
    "    if n is ommited, slice starts at the beginning. if m is ommited slice ends at the end of string\n",
    "\n",
    "    if n >= or == to m, result is an empty string - ' ' \n",
    "\n",
    "    \n",
    "\n",
    "- **immutable** cant change an existing string - cannot put [] on left side of assignment\n",
    "\n",
    "​\n",
    "\n",
    "- **search** traversing a sequence and returning when we find what were looking for\n",
    "\n",
    "    - ex. finds index where character appears\n",
    "\n",
    "    def find(word, letter):\n",
    "\n",
    "        index = 0\n",
    "\n",
    "        while index < lenword):\n",
    "\n",
    "            if word[index] == letter:\n",
    "\n",
    "                return index\n",
    "              can take a second argument & third ('letter', starting index, stopping index)\n",
    "              \n",
    "- **in** - boolean operator that takes two strings and returns true if first appears as substring in second\n",
    "\n",
    "- to check if two strings are equal, can use if word1 == word2 print('')\n",
    "- to put in alphabetical can use < and >  be careful with capital letters\n",
    "              \n"
   ]
  },
  {
   "cell_type": "markdown",
   "metadata": {},
   "source": [
    "### Chapter 8.3  \n",
    "\n",
    "Write a function that takes a string as an argument and displays the letters backward, one per line."
   ]
  },
  {
   "cell_type": "code",
   "execution_count": 28,
   "metadata": {
    "collapsed": false,
    "scrolled": true
   },
   "outputs": [
    {
     "name": "stdout",
     "output_type": "stream",
     "text": [
      "r\n",
      "e\n",
      "b\n",
      "o\n",
      "o\n",
      "g\n"
     ]
    }
   ],
   "source": [
    "string = 'goober'\n",
    "def backwards(string):  \n",
    "    i = len(string) - 1\n",
    "    while i > -1:\n",
    "        letter = string[i]\n",
    "        print(letter)\n",
    "        i = i - 1\n",
    "        \n",
    "backwards(string)    \n",
    "    \n",
    "    "
   ]
  },
  {
   "cell_type": "markdown",
   "metadata": {},
   "source": [
    "**Challenge (optional):** Write a function that translates words into [Pig Latin](https://en.wikipedia.org/wiki/Pig_Latin). \n",
    "\n",
    "**Challenge to the challenge**: Write a function that translates back into English."
   ]
  },
  {
   "cell_type": "code",
   "execution_count": null,
   "metadata": {
    "collapsed": true
   },
   "outputs": [],
   "source": [
    "def pig_latin(word):\n",
    "    \"\"\"\n",
    "    Return given 'word' translated into Pig Latin\n",
    "    \n",
    "    >>> pig_latin(\"software\")\n",
    "    'oftwaresay'\n",
    "    \"\"\"\n",
    "    pass #TODO: Implement me\n",
    "\n",
    "# If you'd like to actually run the doctests here, you can uncomment the lines below.\n",
    "# We use this slightly more complex method to test only the pig_latin function, without running tests on any other functions that may be in this notebook.\n",
    "#import doctest\n",
    "#doctest.run_docstring_examples(pig_latin, globals())"
   ]
  },
  {
   "cell_type": "markdown",
   "metadata": {},
   "source": [
    "### Chapter 8.7\n",
    "Encapsulate the character counting code in a fruitful function named `count` that accepts the string and the letter as arguments and returns the count."
   ]
  },
  {
   "cell_type": "code",
   "execution_count": 31,
   "metadata": {
    "collapsed": false
   },
   "outputs": [
    {
     "name": "stdout",
     "output_type": "stream",
     "text": [
      "7\n"
     ]
    }
   ],
   "source": [
    "string = 'supercalifragilisticexpialidocious'\n",
    "meh = 'i'\n",
    "\n",
    "def count(string, meh):\n",
    "    count = 0\n",
    "    for letter in string:\n",
    "        if letter == meh:\n",
    "            count = count + 1\n",
    "    print(count)\n",
    "    \n",
    "count(string, meh)\n",
    "    "
   ]
  },
  {
   "cell_type": "markdown",
   "metadata": {},
   "source": [
    "### Exercise 8.1\n",
    "Skim the documentation of the Python [string methods](http://docs.python.org/2/library/stdtypes.html#string-methods). Play with them to make sure you understand how they work-- strip, replace, and upper/lower are particularly useful. Show us some of your experiments."
   ]
  },
  {
   "cell_type": "code",
   "execution_count": 41,
   "metadata": {
    "collapsed": false
   },
   "outputs": [
    {
     "name": "stdout",
     "output_type": "stream",
     "text": [
      "FRUITY fruity fruiti c\n"
     ]
    }
   ],
   "source": [
    "string = 'fruity'\n",
    "\n",
    "one = str.upper()\n",
    "two = str.lower()\n",
    "three = str.replace('y', 'i')\n",
    "four = str.strip('f')\n",
    "\n",
    "print(one, two, three, four)\n"
   ]
  },
  {
   "cell_type": "markdown",
   "metadata": {},
   "source": [
    "### Exercise 8.4  \n",
    "\n",
    "The following functions are all intended to check whether a string contains any lowercase letters, but at least some of them are wrong. For each function, describe what the function actually does (assuming that the parameter is a string)."
   ]
  },
  {
   "cell_type": "code",
   "execution_count": 46,
   "metadata": {
    "collapsed": false
   },
   "outputs": [],
   "source": [
    "def any_lowercase1(s):\n",
    "    for c in s:\n",
    "        if c.islower():\n",
    "            return True\n",
    "        else:\n",
    "            return False"
   ]
  },
  {
   "cell_type": "markdown",
   "metadata": {},
   "source": [
    "It will return true if the first letter of the string is lowercase. It will return false if the first letter of the string is capitalized. This is because the function will not run past the first letter."
   ]
  },
  {
   "cell_type": "markdown",
   "metadata": {},
   "source": [
    " "
   ]
  },
  {
   "cell_type": "code",
   "execution_count": 60,
   "metadata": {
    "collapsed": false
   },
   "outputs": [],
   "source": [
    "def any_lowercase2(s):\n",
    "    for c in s:\n",
    "        if 'c'.islower():\n",
    "            return 'True'\n",
    "        else:\n",
    "            return 'False'"
   ]
  },
  {
   "cell_type": "markdown",
   "metadata": {},
   "source": [
    "The function will always return true because the string before .islower is a lowercase letter, regardless of what the input string is."
   ]
  },
  {
   "cell_type": "markdown",
   "metadata": {},
   "source": [
    " "
   ]
  },
  {
   "cell_type": "code",
   "execution_count": 59,
   "metadata": {
    "collapsed": false
   },
   "outputs": [],
   "source": [
    "\n",
    "def any_lowercase3(s):\n",
    "    for c in s:\n",
    "        flag = c.islower()\n",
    "    return flag\n"
   ]
  },
  {
   "cell_type": "markdown",
   "metadata": {},
   "source": [
    "This fuction will return true if the last letter of the string is lowercase. It will return false if the last letter is capitalized. This is because the for loop will run for each character in the string but only output flag for the last character."
   ]
  },
  {
   "cell_type": "markdown",
   "metadata": {},
   "source": [
    " "
   ]
  },
  {
   "cell_type": "code",
   "execution_count": 66,
   "metadata": {
    "collapsed": false
   },
   "outputs": [],
   "source": [
    "def any_lowercase4(s):\n",
    "    flag = False\n",
    "    for c in s:\n",
    "        flag = flag or c.islower()\n",
    "    return flag"
   ]
  },
  {
   "cell_type": "markdown",
   "metadata": {},
   "source": [
    "This function will return true if at any point c.islower is true. It will keep running until all characters have been checked. In the case there are no lowercase letters, flag will not reassign and will output false. "
   ]
  },
  {
   "cell_type": "markdown",
   "metadata": {},
   "source": [
    " "
   ]
  },
  {
   "cell_type": "code",
   "execution_count": null,
   "metadata": {
    "collapsed": true
   },
   "outputs": [],
   "source": [
    "def any_lowercase5(s):\n",
    "    for c in s:\n",
    "        if not c.islower():\n",
    "            return False\n",
    "    return True"
   ]
  },
  {
   "cell_type": "markdown",
   "metadata": {},
   "source": [
    "This function will return true, unless there is one capital letter in the string, in which it will return false."
   ]
  },
  {
   "cell_type": "markdown",
   "metadata": {},
   "source": [
    " "
   ]
  },
  {
   "cell_type": "markdown",
   "metadata": {},
   "source": [
    "## [Chapter 10.1 - 10.6](http://www.greenteapress.com/thinkpython2/html/thinkpython2011.html)\n",
    "\n",
    "You may want to review [state diagrams in Chapter 2](http://www.greenteapress.com/thinkpython2/html/thinkpython2003.html#toc13).\n",
    "\n"
   ]
  },
  {
   "cell_type": "markdown",
   "metadata": {},
   "source": [
    "**list** a sequence of values that can be any type (not only characters like strings). Values are called elements/items\n",
    "- to create a list: use ([elements])\n",
    "- list within a list is nested\n",
    "- empty list: []\n",
    "- can assign values to variables\n",
    "- accessing elements of list by using bracket operator: list[index]\n",
    "- bracket can show on left side of assignment --> will assign to whatever element of the list\n",
    "- in operator works on lists\n",
    "- to traverse elements you can use for loop\n",
    "- append(' ') adds new element to end of list\n",
    "- extend takes a list as an argument and appends all elements ex t1.extend(t2) t1 = [t1 + t2]\n",
    "- sort arranges elements of list from low to high ex t.sort()"
   ]
  },
  {
   "cell_type": "markdown",
   "metadata": {},
   "source": [
    "**Quick check:** What type of items can be placed in a list?"
   ]
  },
  {
   "cell_type": "markdown",
   "metadata": {},
   "source": [
    "anything can be placed in a list."
   ]
  },
  {
   "cell_type": "markdown",
   "metadata": {},
   "source": [
    "**Quick check:** Give at least one similarity and one difference between lists and strings."
   ]
  },
  {
   "cell_type": "markdown",
   "metadata": {},
   "source": [
    "One similarity: can access elements of list using bracket operator\n",
    "One difference: can use bracket on left side of assignment to reassign"
   ]
  },
  {
   "cell_type": "markdown",
   "metadata": {},
   "source": [
    "### Exercise\n",
    "\n",
    "Write a Python function named `average` that takes a list of numbers and returns their arithmetic mean."
   ]
  },
  {
   "cell_type": "code",
   "execution_count": 73,
   "metadata": {
    "collapsed": false
   },
   "outputs": [
    {
     "data": {
      "text/plain": [
       "3.0"
      ]
     },
     "execution_count": 73,
     "metadata": {},
     "output_type": "execute_result"
    }
   ],
   "source": [
    "numbers = ([1, 2, 3, 4, 5])\n",
    "\n",
    "def average1(numbers):\n",
    "    sum = 0\n",
    "    for i in numbers:\n",
    "        sum = i + sum\n",
    "    average = sum / len(numbers)\n",
    "    return average\n",
    "    \n",
    "average1(numbers)"
   ]
  },
  {
   "cell_type": "markdown",
   "metadata": {},
   "source": [
    "### Exercise\n",
    "You own a restaurant, and you need to keep up with the latest food fads or risk losing your fickle customers. You decide to write a Python function that adds the hot new ingredient _du jour_ to each of your regular menu items and returns the trendy new menu."
   ]
  },
  {
   "cell_type": "code",
   "execution_count": 76,
   "metadata": {
    "collapsed": false
   },
   "outputs": [
    {
     "name": "stdout",
     "output_type": "stream",
     "text": [
      "burger with fries\n",
      "salad with fries\n",
      "ice cream with fries\n",
      "grilled cheese with fries\n",
      "chicken with fries\n",
      "pizza with fries\n"
     ]
    }
   ],
   "source": [
    "menu = (['burger', 'salad', 'ice cream', 'grilled cheese', 'chicken', 'pizza'])\n",
    "ingredient = 'fries'\n",
    "\n",
    "def add_ingredient(menu, ingredient):\n",
    "    for i in menu:\n",
    "        print(i, 'with', ingredient)\n",
    "        \n",
    "add_ingredient(menu, ingredient)\n",
    "\n",
    "\n",
    "pass    # TODO: Implement me\n",
    "\n",
    "# Running doctests in jupyter notebook:\n",
    "# If you'd like to actually run the doctests here, you can uncomment the lines below.\n",
    "# We use this slightly more complex method to test only the add_ingredient function,\n",
    "# without running tests on any other functions that may be in this notebook.\n",
    "\n",
    "#import doctest\n",
    "#doctest.run_docstring_examples(add_ingredient, globals(), verbose=True)"
   ]
  },
  {
   "cell_type": "markdown",
   "metadata": {},
   "source": [
    "## Quick poll\n",
    "About how long did you spend working on this reading journal?"
   ]
  },
  {
   "cell_type": "markdown",
   "metadata": {},
   "source": [
    "Because of my issues with network connections (still unresolved) it took me two days to finish. I spent about 8 hours total with this document open, about 6 of those hours being distracted/ frustrated. Therefore about two hours."
   ]
  },
  {
   "cell_type": "markdown",
   "metadata": {},
   "source": [
    "## Reading Journal feedback\n",
    "\n",
    "Have any comments on this Reading Journal? Feel free to leave them below and we'll read them when you submit your journal entry. This could include suggestions to improve the exercises, topics you'd like to see covered in class next time, or other feedback.\n",
    "\n",
    "If you have Python questions or run into problems while completing the reading, you should post them to Piazza instead so you can get a quick response before your journal is submitted."
   ]
  },
  {
   "cell_type": "markdown",
   "metadata": {},
   "source": [
    "It took me a while to actually understand the process of each lowercase function and i like how they were broken up to see different ways anf outputs for each of them. I also still have problems with my network connection, will try to fix tomorrow. :) "
   ]
  },
  {
   "cell_type": "markdown",
   "metadata": {},
   "source": [
    " "
   ]
  }
 ],
 "metadata": {
  "kernelspec": {
   "display_name": "Python 3",
   "language": "python",
   "name": "python3"
  },
  "language_info": {
   "codemirror_mode": {
    "name": "ipython",
    "version": 3
   },
   "file_extension": ".py",
   "mimetype": "text/x-python",
   "name": "python",
   "nbconvert_exporter": "python",
   "pygments_lexer": "ipython3",
   "version": "3.5.2"
  }
 },
 "nbformat": 4,
 "nbformat_minor": 0
}
