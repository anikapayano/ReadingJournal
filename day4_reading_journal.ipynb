{
 "cells": [
  {
   "cell_type": "markdown",
   "metadata": {},
   "source": [
    "# Day 4 Reading Journal\n",
    "\n",
    "This journal includes several required exercises, but it is meant to encourage active reading more generally.  You should use the journal to take detailed notes, catalog questions, and explore the content from Think Python deeply.\n",
    "\n",
    "Reading: Think Python Chapter 10\n",
    "\n",
    "**Due: Monday, January 30 at 12 noon**\n",
    "\n"
   ]
  },
  {
   "cell_type": "markdown",
   "metadata": {},
   "source": [
    "## [Chapter 10](http://www.greenteapress.com/thinkpython2/html/thinkpython2011.html)\n",
    "\n",
    "You may want to review [state diagrams in Chapter 2](http://greenteapress.com/thinkpython2/html/thinkpython2003.html). [Python Tutor](http://pythontutor.com/) is also helpful for visualizing the state of your program.\n",
    "\n"
   ]
  },
  {
   "cell_type": "markdown",
   "metadata": {},
   "source": [
    "\n",
    "**list** a sequence of values that can be any type (not only characters like strings). Values are called elements/items\n",
    "- to create a list: use ([elements])\n",
    "- list within a list is nested\n",
    "- empty list: []\n",
    "- can assign values to variables\n",
    "- accessing elements of list by using bracket operator: list[index]\n",
    "- bracket can show on left side of assignment --> will assign to -whatever element of the list\n",
    "- in operator works on lists\n",
    "- to traverse elements you can use for loop\n",
    "- append(' ') adds new element to end of list\n",
    "- extend takes a list as an argument and appends all elements ex -t1.extend(t2) t1 = [t1 + t2]\n",
    "- sort arranges elements of list from low to high ex t.sort()\n",
    "- to update list, can use **augmented assignment statement**\n",
    "    - ex. total += x --> equivalent to total = total + x\n",
    "- **reduce** combines sequence of elements into single value ex. sum()\n",
    "- **map** maps function onto each element in a sequence - could use function map()\n",
    "- ** filter** selects come elements and filters out others\n",
    "- can delete elements of list using:\n",
    "    - string.pop(index) modifies list and returns element removed\n",
    "    - can use del string[index] to completely remove element(s) (can use slice index for multiple elements)\n",
    "    - can use string.remove(element) if index is unknown\n",
    "- to convert string to list of characters can use list(string)\n",
    "- to break string into words can use string.split()\n",
    "- delimiter specifies which characters to use as word boundaries\n",
    "- join takes list of strings and concatenates elements delimiter.join(string)\n",
    "- lists can be equivalent (same elements) but not identical (not same object). if identical then equivalent. Equivalent does not mean identical\n",
    "- **reference** association of a variable with an object\n",
    "- **aliased** object with more than one reference\n",
    "- append modifies a list while + operator creates a new list"
   ]
  },
  {
   "cell_type": "markdown",
   "metadata": {},
   "source": [
    "### Exercise 10.3 \n",
    "Write a function called `middle` that takes a list and returns a new list that contains all but the first and last elements. So `middle([1,2,3,4])` should return `[2,3]`."
   ]
  },
  {
   "cell_type": "code",
   "execution_count": 19,
   "metadata": {
    "collapsed": false
   },
   "outputs": [
    {
     "data": {
      "text/plain": [
       "[2, 3, 4, 5, 6]"
      ]
     },
     "execution_count": 19,
     "metadata": {},
     "output_type": "execute_result"
    }
   ],
   "source": [
    "def middle(blah):\n",
    "    newlist = blah[1:-1]\n",
    "    return newlist\n",
    "\n",
    "middle([1,2,3,4,5,6 ,7])"
   ]
  },
  {
   "cell_type": "markdown",
   "metadata": {},
   "source": [
    "### Exercise 10.4 \n",
    "Write a function called `chop` that takes a list, modifies it by removing the first and last elements, and returns `None`.\n",
    "\n",
    "What is the difference between `middle` and `chop`? Sketch out the program state or take a look at each in Python Tutor and answer the question in the Markdown cell below."
   ]
  },
  {
   "cell_type": "code",
   "execution_count": 32,
   "metadata": {
    "collapsed": false
   },
   "outputs": [
    {
     "data": {
      "text/plain": [
       "['b', 'c']"
      ]
     },
     "execution_count": 32,
     "metadata": {},
     "output_type": "execute_result"
    }
   ],
   "source": [
    "def chop(meh):\n",
    "    i = len(meh)\n",
    "    del meh[0]\n",
    "    del meh[-1]\n",
    "    return meh\n",
    "\n",
    "chop(['a','b','c','d'])"
   ]
  },
  {
   "cell_type": "markdown",
   "metadata": {},
   "source": [
    "The middle function takes the original list, modifies it, and creates a new list. The chop function completely removes the elements from the original list."
   ]
  },
  {
   "cell_type": "markdown",
   "metadata": {},
   "source": [
    "### Exercise 10.6 \n",
    "Two words are anagrams if you can rearrange the letters from one to spell the other. Write a function called `is_anagram` that takes two strings and returns `True` if they are anagrams."
   ]
  },
  {
   "cell_type": "code",
   "execution_count": 62,
   "metadata": {
    "collapsed": false
   },
   "outputs": [
    {
     "data": {
      "text/plain": [
       "True"
      ]
     },
     "execution_count": 62,
     "metadata": {},
     "output_type": "execute_result"
    }
   ],
   "source": [
    "def is_anagram(one, two):\n",
    "    stringone = list(one)\n",
    "    stringtwo = list(two)\n",
    "    i = 0\n",
    "    for char in stringone:\n",
    "        x = stringone[i]\n",
    "        if x in stringtwo:\n",
    "            i = i + 1\n",
    "        else:\n",
    "            return False\n",
    "    return True\n",
    "    \n",
    "    \n",
    "is_anagram('pode', 'dope')"
   ]
  },
  {
   "cell_type": "markdown",
   "metadata": {},
   "source": [
    "### Exercise 10.8  \n",
    "The (so-called) Birthday Paradox: <br /><br />\n",
    "1\\. Write a function called `has_duplicates` that takes a list and returns `True` if there is any element that appears more than once. It should not modify the original list.\n",
    "\n",
    "2\\. If there are 23 students in your class, what are the chances that two of you have the same birthday? Put your answer in the Markdown cell below. You can estimate this probability by generating random samples of 23 birthdays and checking for matches. Hint: you can generate random birthdays with the randint function from the [random module](https://docs.python.org/2/library/random.html).\n",
    "\n",
    "You can read about this problem at http://en.wikipedia.org/wiki/Birthday_paradox, and you can download Allen's solution from http://greenteapress.com/thinkpython2/code/birthday.py."
   ]
  },
  {
   "cell_type": "code",
   "execution_count": 73,
   "metadata": {
    "collapsed": false
   },
   "outputs": [
    {
     "data": {
      "text/plain": [
       "False"
      ]
     },
     "execution_count": 73,
     "metadata": {},
     "output_type": "execute_result"
    }
   ],
   "source": [
    "def has_duplicates(idk):\n",
    "    flag = False\n",
    "    for x in idk:\n",
    "        flag = flag or idk.count(x) >= 2       \n",
    "    return flag\n",
    "    \n",
    "    \n",
    "has_duplicates([20, 10, 15, 25])\n"
   ]
  },
  {
   "cell_type": "code",
   "execution_count": 116,
   "metadata": {
    "collapsed": false
   },
   "outputs": [
    {
     "name": "stdout",
     "output_type": "stream",
     "text": [
      "[116, 124, 53, 342, 90, 250, 100, 318, 83, 163, 226, 163, 48, 267, 177, 205, 252, 266, 250, 40, 333, 263, 276]\n",
      "{250, 163}\n"
     ]
    },
    {
     "data": {
      "text/plain": [
       "True"
      ]
     },
     "execution_count": 116,
     "metadata": {},
     "output_type": "execute_result"
    }
   ],
   "source": [
    "import random\n",
    "def same_birthday(students):\n",
    "    birthdays = []\n",
    "    for i in range(students):\n",
    "        bday = random.randint(1, 365)\n",
    "        birthdays.append(bday)\n",
    "    print(birthdays)\n",
    "    flag = False\n",
    "    for x in birthdays:\n",
    "        flag = flag or birthdays.count(x) >= 2\n",
    "    print(set([x for x in birthdays if birthdays.count(x) >=2]))\n",
    "    return flag\n",
    "\n",
    "same_birthday(23)"
   ]
  },
  {
   "cell_type": "markdown",
   "metadata": {},
   "source": [
    "The probability of two people in a class of 23 having the same birthdays is approximately 50%. This is due to the assumption that it is equally probable to have a birthday on any day of the year."
   ]
  },
  {
   "cell_type": "markdown",
   "metadata": {},
   "source": [
    "### Challenge: Exercise 10.10 (optional)\n",
    "\n",
    "You should read [Chapter 9.1](http://www.greenteapress.com/thinkpython2/html/thinkpython2010.html) and do Exercise 1 first.\n",
    "\n",
    "To check whether a word is in the word list, you could use the `in` operator, but it would be relatively slow because it searches through the words in order (try it).\n",
    "\n",
    "Because the words are in alphabetical order, we can speed things up with a bisection search (also known as binary search), which is similar to what you do when you look a word up in the dictionary. You start in the middle and check to see whether the word you are looking for comes before the word in the middle of the list. If so, then you search the first half of the list the same way. Otherwise you search the second half.\n",
    "\n",
    "Either way, you cut the remaining search space in half. If the word list has 113,809 words, it will take about 17 steps to find the word or conclude that it’s not there.\n",
    "\n",
    "Write a function called `bisect` that takes a sorted list and a target value and returns the index of the value in the list, if it’s there, or `None` if it’s not.\n",
    "\n",
    "Or you could read the documentation of the `bisect` module and use that! Solution: http://greenteapress.com/thinkpython2/code/inlist.py."
   ]
  },
  {
   "cell_type": "code",
   "execution_count": null,
   "metadata": {
    "collapsed": true
   },
   "outputs": [],
   "source": []
  },
  {
   "cell_type": "markdown",
   "metadata": {},
   "source": [
    "## Reading Journal feedback\n",
    "\n",
    "Have any comments on this Reading Journal? Feel free to leave them [here](https://goo.gl/forms/hZqCUAi4ir7hVN6x2) and we'll read them when you submit your journal entry. This could include suggestions to improve the exercises, topics you'd like to see covered in class next time, or other feedback.\n",
    "\n",
    "If you have Python questions or run into problems while completing the reading, you should post them to Piazza instead so you can get a quick response before your journal is submitted."
   ]
  },
  {
   "cell_type": "markdown",
   "metadata": {},
   "source": [
    "no problems."
   ]
  }
 ],
 "metadata": {
  "kernelspec": {
   "display_name": "Python 3",
   "language": "python",
   "name": "python3"
  },
  "language_info": {
   "codemirror_mode": {
    "name": "ipython",
    "version": 3
   },
   "file_extension": ".py",
   "mimetype": "text/x-python",
   "name": "python",
   "nbconvert_exporter": "python",
   "pygments_lexer": "ipython3",
   "version": "3.5.2"
  }
 },
 "nbformat": 4,
 "nbformat_minor": 0
}
